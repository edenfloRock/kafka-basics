{
 "cells": [
  {
   "cell_type": "markdown",
   "metadata": {},
   "source": [
    "Importar librerías"
   ]
  },
  {
   "cell_type": "code",
   "execution_count": 8,
   "metadata": {},
   "outputs": [],
   "source": [
    "from confluent_kafka import Producer, Consumer\n",
    "import random\n",
    "import pandas as pd"
   ]
  },
  {
   "cell_type": "markdown",
   "metadata": {},
   "source": [
    "Productor"
   ]
  },
  {
   "cell_type": "code",
   "execution_count": 9,
   "metadata": {},
   "outputs": [
    {
     "data": {
      "text/plain": [
       "0"
      ]
     },
     "execution_count": 9,
     "metadata": {},
     "output_type": "execute_result"
    }
   ],
   "source": [
    "p = Producer({'bootstrap.servers':'localhost:9092'})\n",
    "for i in range(100):\n",
    "    data = {'valor_{}'.format(str(i)): random.randint(1,10)}\n",
    "    p.produce('Mundial4', str(data))\n",
    "\n",
    "p.flush()"
   ]
  },
  {
   "cell_type": "markdown",
   "metadata": {},
   "source": [
    "Consumidor"
   ]
  },
  {
   "cell_type": "code",
   "execution_count": 10,
   "metadata": {},
   "outputs": [
    {
     "name": "stdout",
     "output_type": "stream",
     "text": [
      "Ningún mensaje\n",
      "Ningún mensaje\n",
      "Ningún mensaje\n",
      "El mensaje recibido es: {'valor_9': 2}\n",
      "El mensaje recibido es: {'valor_10': 10}\n",
      "El mensaje recibido es: {'valor_11': 7}\n",
      "El mensaje recibido es: {'valor_14': 6}\n",
      "El mensaje recibido es: {'valor_15': 2}\n",
      "El mensaje recibido es: {'valor_21': 10}\n",
      "El mensaje recibido es: {'valor_22': 9}\n",
      "El mensaje recibido es: {'valor_23': 8}\n",
      "El mensaje recibido es: {'valor_28': 8}\n",
      "El mensaje recibido es: {'valor_31': 7}\n",
      "El mensaje recibido es: {'valor_34': 2}\n",
      "El mensaje recibido es: {'valor_35': 10}\n",
      "El mensaje recibido es: {'valor_40': 9}\n",
      "El mensaje recibido es: {'valor_44': 10}\n",
      "El mensaje recibido es: {'valor_46': 8}\n",
      "El mensaje recibido es: {'valor_47': 10}\n",
      "El mensaje recibido es: {'valor_50': 5}\n",
      "El mensaje recibido es: {'valor_55': 9}\n",
      "El mensaje recibido es: {'valor_56': 3}\n",
      "El mensaje recibido es: {'valor_57': 7}\n",
      "El mensaje recibido es: {'valor_62': 8}\n",
      "El mensaje recibido es: {'valor_67': 8}\n",
      "El mensaje recibido es: {'valor_70': 1}\n",
      "El mensaje recibido es: {'valor_75': 2}\n",
      "El mensaje recibido es: {'valor_78': 4}\n",
      "El mensaje recibido es: {'valor_82': 9}\n",
      "El mensaje recibido es: {'valor_85': 2}\n",
      "El mensaje recibido es: {'valor_98': 9}\n",
      "El mensaje recibido es: {'valor_99': 4}\n",
      "El mensaje recibido es: {'valor_2': 8}\n",
      "El mensaje recibido es: {'valor_4': 3}\n",
      "El mensaje recibido es: {'valor_17': 10}\n",
      "El mensaje recibido es: {'valor_18': 8}\n",
      "El mensaje recibido es: {'valor_20': 3}\n",
      "El mensaje recibido es: {'valor_25': 2}\n",
      "El mensaje recibido es: {'valor_29': 2}\n",
      "El mensaje recibido es: {'valor_32': 6}\n",
      "El mensaje recibido es: {'valor_37': 5}\n",
      "El mensaje recibido es: {'valor_38': 8}\n",
      "El mensaje recibido es: {'valor_39': 4}\n",
      "El mensaje recibido es: {'valor_42': 10}\n",
      "El mensaje recibido es: {'valor_43': 3}\n",
      "El mensaje recibido es: {'valor_49': 6}\n",
      "El mensaje recibido es: {'valor_51': 2}\n",
      "El mensaje recibido es: {'valor_53': 5}\n",
      "El mensaje recibido es: {'valor_64': 2}\n",
      "El mensaje recibido es: {'valor_65': 7}\n",
      "El mensaje recibido es: {'valor_66': 7}\n",
      "El mensaje recibido es: {'valor_69': 10}\n",
      "El mensaje recibido es: {'valor_72': 10}\n",
      "El mensaje recibido es: {'valor_79': 5}\n",
      "El mensaje recibido es: {'valor_80': 8}\n",
      "El mensaje recibido es: {'valor_84': 8}\n",
      "El mensaje recibido es: {'valor_89': 9}\n",
      "El mensaje recibido es: {'valor_90': 6}\n",
      "El mensaje recibido es: {'valor_91': 8}\n",
      "El mensaje recibido es: {'valor_92': 10}\n",
      "El mensaje recibido es: {'valor_95': 10}\n",
      "El mensaje recibido es: {'valor_0': 2}\n",
      "El mensaje recibido es: {'valor_1': 6}\n",
      "El mensaje recibido es: {'valor_3': 4}\n",
      "El mensaje recibido es: {'valor_5': 4}\n",
      "El mensaje recibido es: {'valor_6': 1}\n",
      "El mensaje recibido es: {'valor_7': 4}\n",
      "El mensaje recibido es: {'valor_8': 2}\n",
      "El mensaje recibido es: {'valor_12': 2}\n",
      "El mensaje recibido es: {'valor_13': 1}\n",
      "El mensaje recibido es: {'valor_16': 5}\n",
      "El mensaje recibido es: {'valor_19': 9}\n",
      "El mensaje recibido es: {'valor_24': 1}\n",
      "El mensaje recibido es: {'valor_26': 10}\n",
      "El mensaje recibido es: {'valor_27': 6}\n",
      "El mensaje recibido es: {'valor_30': 6}\n",
      "El mensaje recibido es: {'valor_33': 1}\n",
      "El mensaje recibido es: {'valor_36': 9}\n",
      "El mensaje recibido es: {'valor_41': 8}\n",
      "El mensaje recibido es: {'valor_45': 9}\n",
      "El mensaje recibido es: {'valor_48': 8}\n",
      "El mensaje recibido es: {'valor_52': 6}\n",
      "El mensaje recibido es: {'valor_54': 8}\n",
      "El mensaje recibido es: {'valor_58': 3}\n",
      "El mensaje recibido es: {'valor_59': 2}\n",
      "El mensaje recibido es: {'valor_60': 10}\n",
      "El mensaje recibido es: {'valor_61': 9}\n",
      "El mensaje recibido es: {'valor_63': 7}\n",
      "El mensaje recibido es: {'valor_68': 5}\n",
      "El mensaje recibido es: {'valor_71': 3}\n",
      "El mensaje recibido es: {'valor_73': 9}\n",
      "El mensaje recibido es: {'valor_74': 9}\n",
      "El mensaje recibido es: {'valor_76': 9}\n",
      "El mensaje recibido es: {'valor_77': 3}\n",
      "El mensaje recibido es: {'valor_81': 4}\n",
      "El mensaje recibido es: {'valor_83': 3}\n",
      "El mensaje recibido es: {'valor_86': 9}\n",
      "El mensaje recibido es: {'valor_87': 8}\n",
      "El mensaje recibido es: {'valor_88': 2}\n",
      "El mensaje recibido es: {'valor_93': 3}\n",
      "El mensaje recibido es: {'valor_94': 1}\n",
      "El mensaje recibido es: {'valor_96': 10}\n",
      "El mensaje recibido es: {'valor_97': 6}\n",
      "Ningún mensaje\n",
      "Ningún mensaje\n",
      "Ningún mensaje\n",
      "Ningún mensaje\n",
      "Ningún mensaje\n",
      "Ningún mensaje\n",
      "Ningún mensaje\n",
      "Ningún mensaje\n",
      "Ningún mensaje\n",
      "Ningún mensaje\n",
      "Ningún mensaje\n",
      "Ningún mensaje\n",
      "Ningún mensaje\n"
     ]
    }
   ],
   "source": [
    "c = Consumer({'bootstrap.servers':'localhost:9092', 'group.id':'grupo1', 'auto.offset.reset':'earliest'})\n",
    "c.subscribe(['Mundial4'])\n",
    "\n",
    "data_consumer = []\n",
    "\n",
    "try:\n",
    "    while True:\n",
    "        msg = c.poll(1.0)\n",
    "        if msg is None:\n",
    "            print('Ningún mensaje')\n",
    "            continue\n",
    "        if msg.error():\n",
    "            print('Error: {}'.format(msg.error()))\n",
    "            continue\n",
    "        \n",
    "        data_consumer.append(msg.value().decode('utf-8'))\n",
    "        print('El mensaje recibido es: {}'.format(msg.value().decode('utf-8')))\n",
    "except KeyboardInterrupt:\n",
    "    pass\n",
    "finally        :\n",
    "    c.close()"
   ]
  },
  {
   "cell_type": "markdown",
   "metadata": {},
   "source": [
    "###Mostrar Dataframes"
   ]
  },
  {
   "cell_type": "code",
   "execution_count": 11,
   "metadata": {},
   "outputs": [
    {
     "name": "stdout",
     "output_type": "stream",
     "text": [
      "                     0\n",
      "count              100\n",
      "unique             100\n",
      "top     {'valor_9': 2}\n",
      "freq                 1\n",
      "                   0\n",
      "0     {'valor_9': 2}\n",
      "1   {'valor_10': 10}\n",
      "2    {'valor_11': 7}\n",
      "3    {'valor_14': 6}\n",
      "4    {'valor_15': 2}\n",
      "..               ...\n",
      "95   {'valor_88': 2}\n",
      "96   {'valor_93': 3}\n",
      "97   {'valor_94': 1}\n",
      "98  {'valor_96': 10}\n",
      "99   {'valor_97': 6}\n",
      "\n",
      "[100 rows x 1 columns]\n"
     ]
    }
   ],
   "source": [
    "df = pd.DataFrame(data_consumer)\n",
    "print(df.describe())\n",
    "print(df)"
   ]
  },
  {
   "cell_type": "markdown",
   "metadata": {},
   "source": []
  }
 ],
 "metadata": {
  "kernelspec": {
   "display_name": ".venv",
   "language": "python",
   "name": "python3"
  },
  "language_info": {
   "codemirror_mode": {
    "name": "ipython",
    "version": 3
   },
   "file_extension": ".py",
   "mimetype": "text/x-python",
   "name": "python",
   "nbconvert_exporter": "python",
   "pygments_lexer": "ipython3",
   "version": "3.12.3"
  }
 },
 "nbformat": 4,
 "nbformat_minor": 2
}
