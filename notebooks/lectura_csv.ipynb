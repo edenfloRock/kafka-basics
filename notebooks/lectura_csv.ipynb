{
 "cells": [
  {
   "cell_type": "markdown",
   "metadata": {},
   "source": [
    "Importar librerías"
   ]
  },
  {
   "cell_type": "code",
   "execution_count": null,
   "metadata": {},
   "outputs": [],
   "source": [
    "from confluent_kafka import Consumer, Producer, KafkaError\n",
    "import matplotlib.pyplot as plt\n",
    "from io import StringIO\n",
    "import pandas as pd\n",
    "\n"
   ]
  },
  {
   "cell_type": "code",
   "execution_count": null,
   "metadata": {},
   "outputs": [],
   "source": [
    "Productor"
   ]
  },
  {
   "cell_type": "code",
   "execution_count": null,
   "metadata": {},
   "outputs": [],
   "source": [
    "#Carga CSV\n",
    "csv_file_path = '../data/data_companies.csv'\n",
    "df = pd.read_csv(csv_file_path)\n",
    "\n",
    "producer = Producer ({'bootstrap.servers':'localhost:9092'})\n",
    "\n",
    "for _, row in df.iterrows():\n",
    "    message = f\"{row['company']},{row['country']}, {row['priceLY']}, {row['priceCY']}\"\n",
    "    producer.produce('Companies', value = message)\n",
    "    \n",
    "producer.flush()\n",
    "\n"
   ]
  },
  {
   "cell_type": "code",
   "execution_count": null,
   "metadata": {},
   "outputs": [],
   "source": [
    "Consumidor"
   ]
  },
  {
   "cell_type": "code",
   "execution_count": null,
   "metadata": {},
   "outputs": [],
   "source": [
    "c = Consumer({'bootstrap.servers':'localhost:9092', 'group.id':'grupo1', 'auto.offset.reset':'earliest'})\n",
    "c.subscribe(['Companies'])\n",
    "\n",
    "plot_df = pd.DataFrame(columns=['company', 'country', 'priceLY', 'priceCY'])\n",
    "\n",
    "try:\n",
    "    while True:\n",
    "        msg = c.poll(1.0)\n",
    "        if msg is None:\n",
    "            print('Ningún mensaje')\n",
    "            continue\n",
    "        if msg.error():\n",
    "            print('Error: {}'.format(msg.error()))\n",
    "            continue\n",
    "        \n",
    "        message_data = StringIO(msg.value().decode('utf-8'))\n",
    "        row_data = pd.read_csv(message_data, header=None, names=['company', 'country', 'priceLY', 'priceCY'])\n",
    "        plot_df = pd.concat([plot_df, row_data], ignore_index=True)\n",
    "        \n",
    "        #print('El mensaje recibido es: {}'.format(message_data))\n",
    "        unique_companies = plot_df['company'].unique()\n",
    "        bar_width = 0.35 \n",
    "        for company in unique_companies:\n",
    "            data_company = plot_df[plot_df['company'] == company]\n",
    "            indexes = range(len(data_company))\n",
    "            \n",
    "            plt.figure(figsize=(10,6))\n",
    "            plt.bar(indexes, data_company['priceLY'], width=bar_width, label='PriceLY')\n",
    "            plt.bar([i + bar_width for i in indexes], data_company['priceCY'],width=bar_width, label='PriceCY')            \n",
    "            plt.title(f\"Price comparison for {company}\")\n",
    "            plt.xlabel('Index')\n",
    "            plt.ylabel('Price')\n",
    "            plt.xticks([i+ bar_width /2 for i in indexes], indexes)\n",
    "            plt.legend()\n",
    "            plt.show()\n",
    "            \n",
    "        \n",
    "        \n",
    "except KeyboardInterrupt:\n",
    "    pass\n",
    "finally        :\n",
    "    c.close()"
   ]
  },
  {
   "cell_type": "code",
   "execution_count": null,
   "metadata": {},
   "outputs": [],
   "source": []
  }
 ],
 "metadata": {
  "kernelspec": {
   "display_name": ".venv",
   "language": "python",
   "name": "python3"
  },
  "language_info": {
   "codemirror_mode": {
    "name": "ipython",
    "version": 3
   },
   "file_extension": ".py",
   "mimetype": "text/x-python",
   "name": "python",
   "nbconvert_exporter": "python",
   "pygments_lexer": "ipython3",
   "version": "3.12.3"
  }
 },
 "nbformat": 4,
 "nbformat_minor": 2
}
